{
 "cells": [
  {
   "attachments": {},
   "cell_type": "markdown",
   "metadata": {},
   "source": [
    "# adjacent\n",
    "\n",
    "> Set of functions for querying the neighborhood of a given Open Location Code grid."
   ]
  },
  {
   "cell_type": "code",
   "execution_count": null,
   "metadata": {},
   "outputs": [],
   "source": [
    "#| default_exp adjacent"
   ]
  },
  {
   "cell_type": "code",
   "execution_count": null,
   "metadata": {},
   "outputs": [],
   "source": [
    "#| hide\n",
    "from nbdev.showdoc import *\n",
    "from fastcore.test import *"
   ]
  },
  {
   "cell_type": "code",
   "execution_count": null,
   "metadata": {},
   "outputs": [],
   "source": [
    "#| export\n",
    "import pandas as pd\n",
    "from openlocationcode import openlocationcode as olc\n",
    "from olc_utils.grid import *\n",
    "from typing import Tuple"
   ]
  },
  {
   "cell_type": "code",
   "execution_count": null,
   "metadata": {},
   "outputs": [],
   "source": [
    "#| export\n",
    "def get_adjacent_grids(\n",
    "    olc_code:str, # OLC code to get the neighbours of\n",
    "    radius:int=1, # Radius of the grid to get the neighbours of (default 1) \n",
    "    )->Tuple[str]: # Tuple of 8 OLC codes, starting from the NW corner and going clockwise\n",
    "    # Get the 8 neighbours of a given OLC code grid, starting from the NW corner and going clockwise\n",
    "    \n",
    "    if olc_code is None:\n",
    "        return None\n",
    "    else:\n",
    "        #TODO: implement radius based logic\n",
    "        NW = get_olc_with_offsets(olc_code, 1, -1)\n",
    "        N = get_olc_with_offsets(olc_code, 1, 0)\n",
    "        NE = get_olc_with_offsets(olc_code, 1, 1)\n",
    "        E = get_olc_with_offsets(olc_code, 0, 1)\n",
    "        SE = get_olc_with_offsets(olc_code, -1, 1)\n",
    "        S = get_olc_with_offsets(olc_code, -1, 0)\n",
    "        SW = get_olc_with_offsets(olc_code, -1, -1)\n",
    "        W = get_olc_with_offsets(olc_code, 0, -1)\n",
    "        \n",
    "        return NW, N, NE, E, SE, S, SW, W"
   ]
  },
  {
   "cell_type": "code",
   "execution_count": null,
   "metadata": {},
   "outputs": [
    {
     "data": {
      "text/plain": [
       "('7JCMHQC9',\n",
       " '7JCMHQCC',\n",
       " '7JCMHQCF',\n",
       " '7JCMHQ9F',\n",
       " '7JCMHQ8F',\n",
       " '7JCMHQ8C',\n",
       " '7JCMHQ89',\n",
       " '7JCMHQ99')"
      ]
     },
     "execution_count": null,
     "metadata": {},
     "output_type": "execute_result"
    }
   ],
   "source": [
    "get_adjacent_grids(olc_code='7JCMHQ9C')"
   ]
  },
  {
   "cell_type": "code",
   "execution_count": null,
   "metadata": {},
   "outputs": [],
   "source": [
    "# | hide\n",
    "test_eq(\n",
    "    get_adjacent_grids(olc_code=\"7JCMHQ9C\"),\n",
    "    (\n",
    "        \"7JCMHQC9\",\n",
    "        \"7JCMHQCC\",\n",
    "        \"7JCMHQCF\",\n",
    "        \"7JCMHQ9F\",\n",
    "        \"7JCMHQ8F\",\n",
    "        \"7JCMHQ8C\",\n",
    "        \"7JCMHQ89\",\n",
    "        \"7JCMHQ99\",\n",
    "    ),\n",
    ")"
   ]
  },
  {
   "cell_type": "code",
   "execution_count": null,
   "metadata": {},
   "outputs": [],
   "source": [
    "#| hide\n",
    "import nbdev; nbdev.nbdev_export()"
   ]
  }
 ],
 "metadata": {
  "kernelspec": {
   "display_name": "p310_trading",
   "language": "python",
   "name": "python3"
  }
 },
 "nbformat": 4,
 "nbformat_minor": 4
}
