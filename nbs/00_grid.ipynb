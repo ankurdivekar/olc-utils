{
 "cells": [
  {
   "attachments": {},
   "cell_type": "markdown",
   "metadata": {},
   "source": [
    "# grid\n",
    "> Set of basic operations on grids"
   ]
  },
  {
   "cell_type": "code",
   "execution_count": null,
   "metadata": {},
   "outputs": [],
   "source": [
    "# | default_exp grid"
   ]
  },
  {
   "cell_type": "code",
   "execution_count": null,
   "metadata": {},
   "outputs": [],
   "source": [
    "# | hide\n",
    "from nbdev.showdoc import *\n",
    "from fastcore.test import *\n"
   ]
  },
  {
   "cell_type": "code",
   "execution_count": null,
   "metadata": {},
   "outputs": [],
   "source": [
    "# | export\n",
    "import pandas as pd\n",
    "from openlocationcode import openlocationcode as olc\n",
    "from typing import Tuple"
   ]
  },
  {
   "cell_type": "code",
   "execution_count": null,
   "metadata": {},
   "outputs": [],
   "source": [
    "#| export\n",
    "def get_valid_olc_code(\n",
    "    olc_code:str # OLC code to validate\n",
    "    )->str: # Valid OLC code or None\n",
    "    # Convert a string to a valid OLC code if possible\n",
    "    if olc.isValid(olc_code):\n",
    "        return olc_code\n",
    "    \n",
    "    if len(olc_code) == 8:\n",
    "        olc_tmp = f\"{olc_code}+\"\n",
    "        return olc_tmp if olc.isValid(olc_tmp) else None\n",
    "    \n",
    "    if len(olc_code) > 8:\n",
    "        olc_tmp = f\"{olc_code[:8]}+{olc_code[8:]}\"\n",
    "        return olc_tmp if olc.isValid(olc_tmp) else None\n",
    "    \n",
    "    return None"
   ]
  },
  {
   "cell_type": "code",
   "execution_count": null,
   "metadata": {},
   "outputs": [
    {
     "data": {
      "text/plain": [
       "'9G7V8V8V+8VX'"
      ]
     },
     "execution_count": null,
     "metadata": {},
     "output_type": "execute_result"
    }
   ],
   "source": [
    "get_valid_olc_code(\"9G7V8V8V8VX\")"
   ]
  },
  {
   "cell_type": "code",
   "execution_count": null,
   "metadata": {},
   "outputs": [],
   "source": [
    "#| hide\n",
    "test_eq(get_valid_olc_code(\"9G7V8V8V+\"), \"9G7V8V8V+\")\n",
    "test_eq(get_valid_olc_code(\"9G7V8V8V\"), \"9G7V8V8V+\")\n",
    "test_eq(get_valid_olc_code(\"9G7V8V8V8VX\"), \"9G7V8V8V+8VX\")\n"
   ]
  },
  {
   "cell_type": "code",
   "execution_count": null,
   "metadata": {},
   "outputs": [],
   "source": [
    "# | export\n",
    "def get_olc_grid_centroid(\n",
    "    olc_code: str   # OLC code to get centroid for\n",
    "    ) -> Tuple[float, float]: # Latitude and longitude of centroid\n",
    "    if olc_code := get_valid_olc_code(olc_code):\n",
    "        g = olc.decode(olc_code)\n",
    "        return g.latitudeCenter, g.longitudeCenter\n",
    "    return None, None"
   ]
  },
  {
   "cell_type": "code",
   "execution_count": null,
   "metadata": {},
   "outputs": [
    {
     "data": {
      "text/plain": [
       "(-72.41625, -162.20125)"
      ]
     },
     "execution_count": null,
     "metadata": {},
     "output_type": "execute_result"
    }
   ],
   "source": [
    "get_olc_grid_centroid('22VVHQMX+')"
   ]
  },
  {
   "cell_type": "code",
   "execution_count": null,
   "metadata": {},
   "outputs": [],
   "source": [
    "#| hide\n",
    "test_eq(get_olc_grid_centroid('22VVHQMX+'), (-72.41625, -162.20125))"
   ]
  },
  {
   "cell_type": "code",
   "execution_count": null,
   "metadata": {},
   "outputs": [],
   "source": [
    "# | export\n",
    "def get_offset_gridchar(\n",
    "    start: int,  # The starting character\n",
    "    offset: int,  # The number of steps to take from the starting character\n",
    ") -> Tuple[str, int]:  # The new character and the number of wraparounds\n",
    "    gridseq = olc.CODE_ALPHABET_\n",
    "    # [\"2\", \"3\", \"4\", \"5\", \"6\", \"7\",\"8\",\"9\",\"C\",\"F\",\"G\",\"H\",\"J\",\"M\",\"P\",\"Q\",\"R\",\"V\",\"W\",\"X\"]\n",
    "\n",
    "    if start not in gridseq:\n",
    "        return None\n",
    "    start_idx = gridseq.index(start)\n",
    "    wraparounds = int((offset / abs(offset)) * (abs(offset) // len(gridseq)))\n",
    "    local_offset = int((offset / abs(offset)) * (abs(offset) % len(gridseq)))\n",
    "\n",
    "    # print(start_idx, wraparounds, local_offset)\n",
    "\n",
    "    if start_idx + local_offset < 0:\n",
    "        return gridseq[start_idx + local_offset + len(gridseq)], wraparounds - 1\n",
    "\n",
    "    elif start_idx + local_offset > len(gridseq) - 1:\n",
    "        return gridseq[start_idx + local_offset - len(gridseq)], wraparounds + 1\n",
    "\n",
    "    else:\n",
    "        return gridseq[start_idx + local_offset], wraparounds"
   ]
  },
  {
   "cell_type": "code",
   "execution_count": null,
   "metadata": {},
   "outputs": [],
   "source": [
    "#| hide\n",
    "# Testing various offsets\n",
    "test_eq(get_offset_gridchar(\"C\", 1), (\"F\", 0))\n",
    "test_eq(get_offset_gridchar(\"C\", -1), (\"9\", 0))\n",
    "test_eq(get_offset_gridchar(\"C\", 16), (\"6\", 1))\n",
    "test_eq(get_offset_gridchar(\"C\", -36), (\"J\", -2))"
   ]
  },
  {
   "cell_type": "code",
   "execution_count": null,
   "metadata": {},
   "outputs": [],
   "source": [
    "# | export\n",
    "def get_olc_with_offsets(\n",
    "    # Get the OLC code for the grid at specified separation from the given grid\n",
    "    olc_code: str,  # Open location code grid id\n",
    "    v_offset: int = 0,  # Vertical offset to be applied to the grid id\n",
    "    h_offset: int = 0,  # Horizontal offset to be applied to the grid id\n",
    ") -> str:  # The new grid id after applying offsets\n",
    "    if olc_code is None:\n",
    "        return None\n",
    "\n",
    "    # Split the OLC code into its component parts.\n",
    "    olc_code = \"\".join(olc_code.split(\"+\"))\n",
    "    olc_components = [olc_code[i : i + 2] for i in range(0, len(olc_code), 2)]\n",
    "    # print(olc_components)\n",
    "\n",
    "    component_pointer = len(olc_components)\n",
    "    wraparound = True\n",
    "\n",
    "    while wraparound:\n",
    "        component_pointer -= 1\n",
    "        component = olc_components[component_pointer]\n",
    "        v_char = component[0]\n",
    "        h_char = component[1]\n",
    "\n",
    "        if v_offset != 0:\n",
    "            v_char, v_offset = get_offset_gridchar(component[0], v_offset)\n",
    "        if h_offset != 0:\n",
    "            h_char, h_offset = get_offset_gridchar(component[1], h_offset)\n",
    "\n",
    "        new_component = v_char + h_char\n",
    "        olc_components[component_pointer] = new_component\n",
    "        wraparound = v_offset != 0 or h_offset != 0\n",
    "\n",
    "    return (\n",
    "        \"\".join(olc_components[:4]) + \"+\" + \"\".join(olc_components[4:])\n",
    "        if len(olc_components) > 4\n",
    "        else \"\".join(olc_components)\n",
    "    )"
   ]
  },
  {
   "cell_type": "code",
   "execution_count": null,
   "metadata": {},
   "outputs": [],
   "source": [
    "#| hide\n",
    "# Testing grids at various resolutions\n",
    "test_eq(get_olc_with_offsets('7JCMHQ', -1, -1), '7JCMGP')\n",
    "test_eq(get_olc_with_offsets('7JCMHQ9C+2W', 0, 0), '7JCMHQ9C+2W')\n",
    "test_eq(get_olc_with_offsets('84VVHQMX', -1, -1), '84VVHQJW')\n",
    "test_eq(get_olc_with_offsets('7JCMHQ9C+2W', 1, 1), '7JCMHQ9C+3X')\n",
    "test_eq(get_olc_with_offsets('7JCMHQ9C+2W', -1, -1), '7JCMHQ8C+XV')"
   ]
  },
  {
   "cell_type": "code",
   "execution_count": null,
   "metadata": {},
   "outputs": [],
   "source": [
    "# | hide\n",
    "import nbdev; nbdev.nbdev_export()"
   ]
  }
 ],
 "metadata": {
  "kernelspec": {
   "display_name": "p310_trading",
   "language": "python",
   "name": "python3"
  }
 },
 "nbformat": 4,
 "nbformat_minor": 2
}
