{
 "cells": [
  {
   "attachments": {},
   "cell_type": "markdown",
   "metadata": {},
   "source": [
    "# grid\n",
    "> Set of basic operations on grids"
   ]
  },
  {
   "cell_type": "code",
   "execution_count": null,
   "metadata": {},
   "outputs": [],
   "source": [
    "# | default_exp grid"
   ]
  },
  {
   "cell_type": "code",
   "execution_count": null,
   "metadata": {},
   "outputs": [],
   "source": [
    "# | hide\n",
    "from nbdev.showdoc import *\n",
    "from fastcore.test import *\n"
   ]
  },
  {
   "cell_type": "code",
   "execution_count": null,
   "metadata": {},
   "outputs": [],
   "source": [
    "# | export\n",
    "import pandas as pd\n",
    "from openlocationcode import openlocationcode as olc\n",
    "from typing import Tuple"
   ]
  },
  {
   "attachments": {},
   "cell_type": "markdown",
   "metadata": {},
   "source": [
    "Basic OLC validation"
   ]
  },
  {
   "cell_type": "code",
   "execution_count": null,
   "metadata": {},
   "outputs": [],
   "source": [
    "#| export\n",
    "def get_valid_olc_code(\n",
    "    olc_code:str # OLC code to validate\n",
    "    )->str: # Valid OLC code or None\n",
    "    # Convert a string to a valid OLC code if possible\n",
    "    if olc.isValid(olc_code):\n",
    "        return olc_code\n",
    "    \n",
    "    if len(olc_code) == 8:\n",
    "        olc_tmp = f\"{olc_code}+\"\n",
    "        return olc_tmp if olc.isValid(olc_tmp) else None\n",
    "    \n",
    "    if len(olc_code) > 8:\n",
    "        olc_tmp = f\"{olc_code[:8]}+{olc_code[8:]}\"\n",
    "        return olc_tmp if olc.isValid(olc_tmp) else None\n",
    "    \n",
    "    return None\n",
    "\n",
    "def get_flat_olc_code(\n",
    "    olc_code:str # OLC code to convert\n",
    "    )->str: # Valid OLC code without the + \n",
    "    \n",
    "    return olc_code.replace(\"+\", \"\")"
   ]
  },
  {
   "cell_type": "code",
   "execution_count": null,
   "metadata": {},
   "outputs": [
    {
     "data": {
      "text/plain": [
       "'9G7V8V8V+8VX'"
      ]
     },
     "execution_count": null,
     "metadata": {},
     "output_type": "execute_result"
    }
   ],
   "source": [
    "get_valid_olc_code(\"9G7V8V8V8VX\")"
   ]
  },
  {
   "cell_type": "code",
   "execution_count": null,
   "metadata": {},
   "outputs": [],
   "source": [
    "#| hide\n",
    "test_eq(get_valid_olc_code(\"9G7V8V8V+\"), \"9G7V8V8V+\")\n",
    "test_eq(get_valid_olc_code(\"9G7V8V8V\"), \"9G7V8V8V+\")\n",
    "test_eq(get_valid_olc_code(\"9G7V8V8V8VX\"), \"9G7V8V8V+8VX\")\n"
   ]
  },
  {
   "attachments": {},
   "cell_type": "markdown",
   "metadata": {},
   "source": [
    "OLC Coordinates"
   ]
  },
  {
   "cell_type": "code",
   "execution_count": null,
   "metadata": {},
   "outputs": [],
   "source": [
    "# | export\n",
    "def get_olc_grid_centroid(\n",
    "    olc_code: str   # OLC code to get centroid for\n",
    "    ) -> Tuple[float, float]: # Latitude and longitude of centroid\n",
    "    if olc_code := get_valid_olc_code(olc_code):\n",
    "        g = olc.decode(olc_code)\n",
    "        return g.latitudeCenter, g.longitudeCenter\n",
    "    return None, None"
   ]
  },
  {
   "cell_type": "code",
   "execution_count": null,
   "metadata": {},
   "outputs": [
    {
     "data": {
      "text/plain": [
       "(-72.41625, -162.20125)"
      ]
     },
     "execution_count": null,
     "metadata": {},
     "output_type": "execute_result"
    }
   ],
   "source": [
    "get_olc_grid_centroid('22VVHQMX+')"
   ]
  },
  {
   "cell_type": "code",
   "execution_count": null,
   "metadata": {},
   "outputs": [],
   "source": [
    "#| hide\n",
    "test_eq(get_olc_grid_centroid('22VVHQMX+'), (-72.41625, -162.20125))"
   ]
  },
  {
   "attachments": {},
   "cell_type": "markdown",
   "metadata": {},
   "source": [
    "Grid code string operations"
   ]
  },
  {
   "cell_type": "code",
   "execution_count": null,
   "metadata": {},
   "outputs": [],
   "source": [
    "# | export\n",
    "def olc_to_xy_chars(\n",
    "    grid: str,\n",
    ") -> Tuple[str, str]:\n",
    "    x_chars = \"\".join([x for i, x in enumerate(grid) if i % 2 == 1])\n",
    "    y_chars = \"\".join([x for i, x in enumerate(grid) if i % 2 == 0])\n",
    "\n",
    "    return x_chars, y_chars\n",
    "\n",
    "\n",
    "def xy_chars_to_olc(\n",
    "    x_chars: str,\n",
    "    y_chars: str,\n",
    ") -> str:\n",
    "    return \"\".join(\"\".join(tup) for tup in zip(y_chars, x_chars))"
   ]
  },
  {
   "attachments": {},
   "cell_type": "markdown",
   "metadata": {},
   "source": [
    "Grid code arithmetic operations"
   ]
  },
  {
   "cell_type": "code",
   "execution_count": null,
   "metadata": {},
   "outputs": [],
   "source": [
    "# | export\n",
    "def olc_to_decimal(grid):\n",
    "    return sum(\n",
    "        pow(20, i) * olc.CODE_ALPHABET_.index(digit)\n",
    "        for i, digit in enumerate(grid[::-1])\n",
    "    )"
   ]
  },
  {
   "cell_type": "code",
   "execution_count": null,
   "metadata": {},
   "outputs": [],
   "source": [
    "test_eq(olc_to_decimal(\"8FWF6MVX\"), 8315077559)"
   ]
  },
  {
   "cell_type": "code",
   "execution_count": null,
   "metadata": {},
   "outputs": [],
   "source": [
    "#| export\n",
    "def decimal_to_olc(decimal):\n",
    "    grid = \"\"\n",
    "    while decimal > 0:\n",
    "        grid = olc.CODE_ALPHABET_[decimal % 20] + grid\n",
    "        decimal //= 20\n",
    "    return grid"
   ]
  },
  {
   "cell_type": "code",
   "execution_count": null,
   "metadata": {},
   "outputs": [],
   "source": [
    "test_eq(decimal_to_olc(8315077559), \"8FWF6MVX\")"
   ]
  },
  {
   "attachments": {},
   "cell_type": "markdown",
   "metadata": {},
   "source": [
    "Grid offset operations"
   ]
  },
  {
   "cell_type": "code",
   "execution_count": null,
   "metadata": {},
   "outputs": [],
   "source": [
    "#| export\n",
    "def get_offsets_between_grids(\n",
    "    grid1: str,\n",
    "    grid2: str,\n",
    ") -> Tuple[int, int]:\n",
    "    # Get X and Y axis characters\n",
    "    x_grid_1, y_grid_1 = olc_to_xy_chars(grid1)\n",
    "    x_grid_2, y_grid_2 = olc_to_xy_chars(grid2)\n",
    "\n",
    "    # Get X and Y axis offsets\n",
    "    x_offset = olc_to_decimal(x_grid_2) - olc_to_decimal(x_grid_1)\n",
    "    y_offset = olc_to_decimal(y_grid_2) - olc_to_decimal(y_grid_1)\n",
    "\n",
    "    return x_offset, y_offset"
   ]
  },
  {
   "cell_type": "code",
   "execution_count": null,
   "metadata": {},
   "outputs": [],
   "source": [
    "test_eq(get_offsets_between_grids(\"9G2243V3\", \"9G2242XJ\"), (-9, 2))\n",
    "test_eq(get_offsets_between_grids(\"9G2242XJ\", \"9G2243V3\"), (9, -2))"
   ]
  },
  {
   "cell_type": "code",
   "execution_count": null,
   "metadata": {},
   "outputs": [],
   "source": [
    "#| export\n",
    "def get_olc_with_offsets(\n",
    "    grid: str,\n",
    "    x_offset: int,\n",
    "    y_offset: int,\n",
    ") -> str:\n",
    "    grid = grid.replace(\"+\", \"\")\n",
    "    x_grid, y_grid = olc_to_xy_chars(grid)\n",
    "    x_grid = decimal_to_olc(olc_to_decimal(x_grid) + x_offset)\n",
    "    y_grid = decimal_to_olc(olc_to_decimal(y_grid) + y_offset)\n",
    "\n",
    "    return xy_chars_to_olc(x_grid, y_grid)"
   ]
  },
  {
   "cell_type": "code",
   "execution_count": null,
   "metadata": {},
   "outputs": [],
   "source": [
    "test_eq(get_olc_with_offsets(\"9G2243V3\", -9, 2), '9G2242XJ')"
   ]
  },
  {
   "cell_type": "code",
   "execution_count": null,
   "metadata": {},
   "outputs": [],
   "source": [
    "#| hide\n",
    "# Testing grids at various resolutions\n",
    "test_eq(get_olc_with_offsets(\"9G2243V3\", -9, 2), '9G2242XJ')\n",
    "test_eq(get_olc_with_offsets('7JCMHQ', -1, -1), '7JCMGP')\n",
    "test_eq(get_olc_with_offsets('7JCMHQ9C+2W', 0, 0), '7JCMHQ9C2W')\n",
    "test_eq(get_olc_with_offsets('84VVHQMX', -1, -1), '84VVHQJW')\n",
    "test_eq(get_olc_with_offsets('7JCMHQ9C2W', 1, 1), '7JCMHQ9C3X')\n",
    "test_eq(get_olc_with_offsets('7JCMHQ9C+2W', -1, -1), '7JCMHQ8CXV')"
   ]
  },
  {
   "cell_type": "code",
   "execution_count": null,
   "metadata": {},
   "outputs": [],
   "source": [
    "# | hide\n",
    "import nbdev; nbdev.nbdev_export()"
   ]
  }
 ],
 "metadata": {
  "kernelspec": {
   "display_name": "p310_trading",
   "language": "python",
   "name": "python3"
  }
 },
 "nbformat": 4,
 "nbformat_minor": 2
}
