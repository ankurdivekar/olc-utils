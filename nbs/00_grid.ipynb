{
 "cells": [
  {
   "attachments": {},
   "cell_type": "markdown",
   "metadata": {},
   "source": [
    "# grid\n",
    "> Set of basic operations on grids"
   ]
  },
  {
   "cell_type": "code",
   "execution_count": null,
   "metadata": {},
   "outputs": [],
   "source": [
    "# | default_exp grid"
   ]
  },
  {
   "cell_type": "code",
   "execution_count": null,
   "metadata": {},
   "outputs": [],
   "source": [
    "# | hide\n",
    "from nbdev.showdoc import *\n",
    "from fastcore.test import *"
   ]
  },
  {
   "cell_type": "code",
   "execution_count": null,
   "metadata": {},
   "outputs": [],
   "source": [
    "# | export\n",
    "import pandas as pd\n",
    "from openlocationcode import openlocationcode as olc\n",
    "from typing import Tuple"
   ]
  },
  {
   "cell_type": "code",
   "execution_count": null,
   "metadata": {},
   "outputs": [],
   "source": [
    "#| export\n",
    "def get_offset_gridchar(\n",
    "    start: int, # The starting character\n",
    "    offset: int # The number of steps to take from the starting character\n",
    "    )-> Tuple[str, int]: # The new character and the number of wraparounds\n",
    "    gridseq = [\n",
    "        \"2\",\n",
    "        \"3\",\n",
    "        \"4\",\n",
    "        \"5\",\n",
    "        \"6\",\n",
    "        \"7\",\n",
    "        \"8\",\n",
    "        \"9\",\n",
    "        \"C\",\n",
    "        \"F\",\n",
    "        \"G\",\n",
    "        \"H\",\n",
    "        \"J\",\n",
    "        \"M\",\n",
    "        \"P\",\n",
    "        \"Q\",\n",
    "        \"R\",\n",
    "        \"V\",\n",
    "        \"W\",\n",
    "        \"X\",\n",
    "    ]\n",
    "    if start not in gridseq:\n",
    "        return None\n",
    "    else:\n",
    "        start_idx = gridseq.index(start)\n",
    "        wraparounds = int((offset / abs(offset)) * (abs(offset) // len(gridseq)))\n",
    "        local_offset = int((offset / abs(offset)) * (abs(offset) % len(gridseq)))\n",
    "\n",
    "        # print(start_idx, wraparounds, local_offset)\n",
    "\n",
    "        if start_idx + local_offset < 0:\n",
    "            return gridseq[start_idx + local_offset + len(gridseq)], wraparounds - 1\n",
    "\n",
    "        elif start_idx + local_offset > len(gridseq) - 1:\n",
    "            return gridseq[start_idx + local_offset - len(gridseq)], wraparounds + 1\n",
    "\n",
    "        else:\n",
    "            return gridseq[start_idx + local_offset], wraparounds"
   ]
  },
  {
   "cell_type": "code",
   "execution_count": null,
   "metadata": {},
   "outputs": [],
   "source": [
    "#| hide\n",
    "# Testing various offsets\n",
    "test_eq(get_offset_gridchar(\"C\", 1), (\"F\", 0))\n",
    "test_eq(get_offset_gridchar(\"C\", -1), (\"9\", 0))\n",
    "test_eq(get_offset_gridchar(\"C\", 16), (\"6\", 1))\n",
    "test_eq(get_offset_gridchar(\"C\", -36), (\"J\", -2))"
   ]
  },
  {
   "cell_type": "code",
   "execution_count": null,
   "metadata": {},
   "outputs": [],
   "source": [
    "#| export\n",
    "def get_olc_with_offsets(\n",
    "    olc_code:str,       # Open location code grid id\n",
    "    v_offset:int=0,     # Vertical offset to be applied to the grid id\n",
    "    h_offset:int=0      # Horizontal offset to be applied to the grid id\n",
    "    )-> str:            # The new grid id after applying offsets\n",
    "    if olc_code is None:\n",
    "        return None\n",
    "    else:\n",
    "        # Split the OLC code into its component parts.\n",
    "        olc_code = ''.join(olc_code.split(\"+\"))\n",
    "        olc_components = [olc_code[i:i+2] for i in range(0, len(olc_code), 2)]\n",
    "        # print(olc_components)\n",
    "        \n",
    "        component_pointer = len(olc_components)\n",
    "        wraparound = True\n",
    "        \n",
    "        while wraparound:\n",
    "            component_pointer -= 1\n",
    "            component = olc_components[component_pointer]\n",
    "            v_char = component[0]\n",
    "            h_char = component[1]\n",
    "            \n",
    "            if v_offset != 0:\n",
    "                v_char, v_offset = get_offset_gridchar(component[0], v_offset)\n",
    "            if h_offset != 0:\n",
    "                h_char, h_offset = get_offset_gridchar(component[1], h_offset)\n",
    "            \n",
    "            new_component = v_char + h_char\n",
    "            olc_components[component_pointer] = new_component\n",
    "            wraparound = v_offset != 0 or h_offset != 0\n",
    "        \n",
    "        if len(olc_components) > 4:\n",
    "            olc_code = ''.join(olc_components[:4]) + '+' + ''.join(olc_components[4:])\n",
    "        else:\n",
    "            olc_code = ''.join(olc_components)\n",
    "            \n",
    "        return olc_code"
   ]
  },
  {
   "cell_type": "code",
   "execution_count": null,
   "metadata": {},
   "outputs": [],
   "source": [
    "#| hide\n",
    "# Testing grids at various resolutions\n",
    "test_eq(get_olc_with_offsets('7JCMHQ', -1, -1), '7JCMGP')\n",
    "test_eq(get_olc_with_offsets('7JCMHQ9C+2W', 0, 0), '7JCMHQ9C+2W')\n",
    "test_eq(get_olc_with_offsets('84VVHQMX', -1, -1), '84VVHQJW')\n",
    "test_eq(get_olc_with_offsets('7JCMHQ9C+2W', 1, 1), '7JCMHQ9C+3X')\n",
    "test_eq(get_olc_with_offsets('7JCMHQ9C+2W', -1, -1), '7JCMHQ8C+XV')"
   ]
  },
  {
   "cell_type": "code",
   "execution_count": null,
   "metadata": {},
   "outputs": [],
   "source": [
    "# | hide\n",
    "import nbdev; nbdev.nbdev_export()"
   ]
  }
 ],
 "metadata": {
  "kernelspec": {
   "display_name": "p310_trading",
   "language": "python",
   "name": "python3"
  }
 },
 "nbformat": 4,
 "nbformat_minor": 2
}
