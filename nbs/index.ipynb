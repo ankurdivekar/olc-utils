{
 "cells": [
  {
   "cell_type": "code",
   "execution_count": null,
   "metadata": {},
   "outputs": [],
   "source": [
    "#| hide\n",
    "from olc_utils.grid import *\n",
    "from olc_utils.adjacent import *"
   ]
  },
  {
   "attachments": {},
   "cell_type": "markdown",
   "metadata": {},
   "source": [
    "# olc-utils\n",
    "\n",
    "> A set of utilities for Open Location Code usage.\n",
    "\n",
    "Under continuous development and things may change drastically.\n",
    "For now, it might be better to simply get the relevant code from the repo and use it in your code."
   ]
  },
  {
   "cell_type": "markdown",
   "metadata": {},
   "source": [
    "## Install"
   ]
  },
  {
   "cell_type": "markdown",
   "metadata": {},
   "source": [
    "```sh\n",
    "pip install olc_utils\n",
    "```"
   ]
  },
  {
   "cell_type": "markdown",
   "metadata": {},
   "source": [
    "## How to use"
   ]
  },
  {
   "attachments": {},
   "cell_type": "markdown",
   "metadata": {},
   "source": [
    "You can get the 8 adjacent neighbours of any valid OLC grid id"
   ]
  },
  {
   "cell_type": "code",
   "execution_count": null,
   "metadata": {},
   "outputs": [
    {
     "data": {
      "text/plain": [
       "('7JCMHQC9',\n",
       " '7JCMHQCC',\n",
       " '7JCMHQCF',\n",
       " '7JCMHQ9F',\n",
       " '7JCMHQ8F',\n",
       " '7JCMHQ8C',\n",
       " '7JCMHQ89',\n",
       " '7JCMHQ99')"
      ]
     },
     "execution_count": null,
     "metadata": {},
     "output_type": "execute_result"
    }
   ],
   "source": [
    "get_adjacent_grids(olc_code='7JCMHQ9C')"
   ]
  }
 ],
 "metadata": {
  "kernelspec": {
   "display_name": "p310_trading",
   "language": "python",
   "name": "python3"
  }
 },
 "nbformat": 4,
 "nbformat_minor": 4
}
