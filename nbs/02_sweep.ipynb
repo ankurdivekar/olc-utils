{
 "cells": [
  {
   "attachments": {},
   "cell_type": "markdown",
   "metadata": {},
   "source": [
    "# sweep\n",
    "\n",
    "> Set of functions for querying an area of OLC grids"
   ]
  },
  {
   "cell_type": "code",
   "execution_count": null,
   "metadata": {},
   "outputs": [],
   "source": [
    "# | default_exp sweep"
   ]
  },
  {
   "cell_type": "code",
   "execution_count": null,
   "metadata": {},
   "outputs": [],
   "source": [
    "# | hide\n",
    "from nbdev.showdoc import *\n",
    "from fastcore.test import *"
   ]
  },
  {
   "cell_type": "code",
   "execution_count": null,
   "metadata": {},
   "outputs": [],
   "source": [
    "# | export\n",
    "import pandas as pd\n",
    "from openlocationcode import openlocationcode as olc\n",
    "from olc_utils.grid import *\n",
    "from typing import Tuple"
   ]
  },
  {
   "attachments": {},
   "cell_type": "markdown",
   "metadata": {},
   "source": [
    "Given a string of characters representing X or Y characters of two OLC grids, find the characters of max and min grid"
   ]
  },
  {
   "cell_type": "code",
   "execution_count": null,
   "metadata": {},
   "outputs": [],
   "source": [
    "# | export\n",
    "def get_max_min_chars(\n",
    "    str1: str,\n",
    "    str2: str,\n",
    ") -> Tuple[str, str]:\n",
    "    max_str = \"\"\n",
    "    min_str = \"\"\n",
    "\n",
    "    for i in range(len(str1)):\n",
    "        if str1[i] == str2[i]:\n",
    "            max_str += str1[i]\n",
    "            min_str += str1[i]\n",
    "\n",
    "        elif olc.CODE_ALPHABET_.index(str1[i]) > olc.CODE_ALPHABET_.index(str2[i]):\n",
    "            max_str += str1[i:]\n",
    "            min_str += str2[i:]\n",
    "\n",
    "            break\n",
    "        else:\n",
    "            max_str += str2[i:]\n",
    "            min_str += str1[i:]\n",
    "\n",
    "            break\n",
    "\n",
    "    return (\n",
    "        max_str,\n",
    "        min_str,\n",
    "    )"
   ]
  },
  {
   "cell_type": "code",
   "execution_count": null,
   "metadata": {},
   "outputs": [],
   "source": [
    "test_eq(get_max_min_chars(\"856X\", \"8W6V\"), (\"8W6V\", \"856X\"))\n",
    "test_eq(get_max_min_chars(\"8W44\", \"8W3X\"), (\"8W44\", \"8W3X\"))"
   ]
  },
  {
   "attachments": {},
   "cell_type": "markdown",
   "metadata": {},
   "source": [
    "Given two OLC grids, find the 4 corner grids in the rectangle defined by the two grids"
   ]
  },
  {
   "cell_type": "code",
   "execution_count": null,
   "metadata": {},
   "outputs": [],
   "source": [
    "# | export\n",
    "def get_four_corner_grids(\n",
    "    grid1: str,\n",
    "    grid2: str,\n",
    ") -> Tuple[str, str]:\n",
    "    if len(grid1) != len(grid2):\n",
    "        raise ValueError(\"Grids must be of the same length\")\n",
    "\n",
    "    # Get the characters for X axis\n",
    "    x_grid_1, y_grid_1 = olc_to_xy_chars(grid1)\n",
    "    x_grid_2, y_grid_2 = olc_to_xy_chars(grid2)\n",
    "    \n",
    "    # Calculate the X max & min characters\n",
    "    x_max_grid, x_min_grid = get_max_min_chars(x_grid_1, x_grid_2)\n",
    "    y_max_grid, y_min_grid = get_max_min_chars(y_grid_1, y_grid_2)\n",
    "\n",
    "    left_bottom = xy_chars_to_olc(x_min_grid, y_min_grid)\n",
    "    left_top = xy_chars_to_olc(x_min_grid, y_max_grid)\n",
    "    right_top = xy_chars_to_olc(x_max_grid, y_max_grid)\n",
    "    right_bottom = xy_chars_to_olc(x_max_grid, y_min_grid)\n",
    "\n",
    "    return left_bottom, left_top, right_top, right_bottom"
   ]
  },
  {
   "cell_type": "code",
   "execution_count": null,
   "metadata": {},
   "outputs": [],
   "source": [
    "test_eq(\n",
    "    get_four_corner_grids(\"9G2242WJ\", \"9G2242PW\"), ('9G2242PJ', '9G2242WJ', '9G2242WW', '9G2242PW')\n",
    ")\n",
    "test_eq(\n",
    "    get_four_corner_grids('9G2542WW', \"9X2242PJ\"), ('9G2542PW', '9G2542WW', '9X2242WJ', '9X2242PJ')\n",
    ")"
   ]
  },
  {
   "attachments": {},
   "cell_type": "markdown",
   "metadata": {},
   "source": [
    "Given two OLC grids, get all OLC grids in the rectangle formed between them"
   ]
  },
  {
   "cell_type": "code",
   "execution_count": null,
   "metadata": {},
   "outputs": [],
   "source": [
    "#| export\n",
    "def get_all_olc_between_grids(\n",
    "    grid1: str,\n",
    "    grid2: str,\n",
    ") -> pd.DataFrame:\n",
    "    # Get the four corners of the grids\n",
    "    left_bottom, _, right_top, _ = get_four_corner_grids(\n",
    "        grid1, grid2\n",
    "    )\n",
    "\n",
    "    # Get X and Y offsets\n",
    "    x_offset, y_offset = get_offsets_between_grids(left_bottom, right_top)\n",
    "\n",
    "    # Get all the grids between the two grids\n",
    "    all_olc = []\n",
    "\n",
    "    for j in range(y_offset + 1):\n",
    "        all_olc.extend(\n",
    "            get_olc_with_offsets(left_bottom, i, j)\n",
    "            for i in range(x_offset + 1)\n",
    "        )\n",
    "    return all_olc"
   ]
  },
  {
   "cell_type": "code",
   "execution_count": null,
   "metadata": {},
   "outputs": [
    {
     "name": "stdout",
     "output_type": "stream",
     "text": [
      "27\n"
     ]
    },
    {
     "data": {
      "text/plain": [
       "['9G2242WJ',\n",
       " '9G2242WM',\n",
       " '9G2242WP',\n",
       " '9G2242WQ',\n",
       " '9G2242WR',\n",
       " '9G2242WV',\n",
       " '9G2242WW',\n",
       " '9G2242WX',\n",
       " '9G2243W2',\n",
       " '9G2242XJ',\n",
       " '9G2242XM',\n",
       " '9G2242XP',\n",
       " '9G2242XQ',\n",
       " '9G2242XR',\n",
       " '9G2242XV',\n",
       " '9G2242XW',\n",
       " '9G2242XX',\n",
       " '9G2243X2',\n",
       " '9G22522J',\n",
       " '9G22522M',\n",
       " '9G22522P',\n",
       " '9G22522Q',\n",
       " '9G22522R',\n",
       " '9G22522V',\n",
       " '9G22522W',\n",
       " '9G22522X',\n",
       " '9G225322']"
      ]
     },
     "metadata": {},
     "output_type": "display_data"
    }
   ],
   "source": [
    "olc_list = get_all_olc_between_grids(\"9G2242WJ\", \"9G225322\")\n",
    "print(len(olc_list))\n",
    "display(olc_list)"
   ]
  },
  {
   "cell_type": "code",
   "execution_count": null,
   "metadata": {},
   "outputs": [],
   "source": [
    "# | hide\n",
    "import nbdev\n",
    "\n",
    "nbdev.nbdev_export()"
   ]
  }
 ],
 "metadata": {
  "kernelspec": {
   "display_name": "p310_trading",
   "language": "python",
   "name": "python3"
  }
 },
 "nbformat": 4,
 "nbformat_minor": 4
}
