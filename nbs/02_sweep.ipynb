{
 "cells": [
  {
   "attachments": {},
   "cell_type": "markdown",
   "metadata": {},
   "source": [
    "# sweep\n",
    "\n",
    "> Set of functions for querying an area of OLC grids"
   ]
  },
  {
   "cell_type": "code",
   "execution_count": null,
   "metadata": {},
   "outputs": [],
   "source": [
    "#| default_exp sweep"
   ]
  },
  {
   "cell_type": "code",
   "execution_count": null,
   "metadata": {},
   "outputs": [],
   "source": [
    "#| hide\n",
    "from nbdev.showdoc import *\n",
    "from fastcore.test import *"
   ]
  },
  {
   "cell_type": "code",
   "execution_count": null,
   "metadata": {},
   "outputs": [],
   "source": [
    "#| export\n",
    "import pandas as pd\n",
    "from openlocationcode import openlocationcode as olc\n",
    "from olc_utils.grid import *\n",
    "from typing import Tuple"
   ]
  },
  {
   "attachments": {},
   "cell_type": "markdown",
   "metadata": {},
   "source": [
    "> Find all grids within the area defined by two OLC grids as vertices"
   ]
  },
  {
   "attachments": {},
   "cell_type": "markdown",
   "metadata": {},
   "source": [
    "Given a string of characters representing X or Y characters of two OLC grids, find the characters of max and min grid"
   ]
  },
  {
   "cell_type": "code",
   "execution_count": null,
   "metadata": {},
   "outputs": [],
   "source": [
    "# | export\n",
    "def get_max_min_chars(\n",
    "    str1: str,\n",
    "    str2: str,\n",
    ") -> Tuple[str, str]:\n",
    "    max_str = \"\"\n",
    "    min_str = \"\"\n",
    "    for i in range(len(str1)):\n",
    "        if str1[i] == str2[i]:\n",
    "            max_str += str1[i]\n",
    "            min_str += str1[i]\n",
    "\n",
    "        elif olc.CODE_ALPHABET_.index(str1[i]) > olc.CODE_ALPHABET_.index(str2[i]):\n",
    "            max_str += str1[i:]\n",
    "            min_str += str2[i:]\n",
    "            break\n",
    "        else:\n",
    "            max_str += str2[i:]\n",
    "            min_str += str1[i:]\n",
    "            break\n",
    "\n",
    "    return max_str, min_str"
   ]
  },
  {
   "cell_type": "code",
   "execution_count": null,
   "metadata": {},
   "outputs": [],
   "source": [
    "test_eq(get_max_min_chars(\"856X\",\"8W6V\"), ('8W6V', '856X'))\n",
    "test_eq(get_max_min_chars(\"8W44\",\"8W3X\"), ('8W44', '8W3X'))"
   ]
  },
  {
   "attachments": {},
   "cell_type": "markdown",
   "metadata": {},
   "source": [
    "Given two OLC grids, find the grids that are Lower Left and Upper Right vertices in the rectangle defined by the two grids"
   ]
  },
  {
   "cell_type": "code",
   "execution_count": null,
   "metadata": {},
   "outputs": [],
   "source": [
    "# | export\n",
    "def get_right_diagonal_vertex_grids(\n",
    "    grid1: str,\n",
    "    grid2: str,\n",
    ")-> Tuple[str, str]:\n",
    "    if len(grid1) != len(grid2):\n",
    "        raise ValueError(\"Grids must be of the same length\")\n",
    "\n",
    "    # Get the characters for X axis\n",
    "    x_grid_1 = ''.join([x for i, x in enumerate(grid1) if i % 2 == 1])\n",
    "    x_grid_2 = ''.join([x for i, x in enumerate(grid2) if i % 2 == 1])\n",
    "\n",
    "    # Get the characters for Y axis\n",
    "    y_grid_1 = ''.join([x for i, x in enumerate(grid1) if i % 2 == 0])\n",
    "    y_grid_2 = ''.join([x for i, x in enumerate(grid2) if i % 2 == 0])\n",
    "    \n",
    "    # Calculate the X max & min characters\n",
    "    x_max_grid, x_min_grid = get_max_min_chars(x_grid_1, x_grid_2)\n",
    "    y_max_grid, y_min_grid = get_max_min_chars(y_grid_1, y_grid_2)\n",
    "    \n",
    "    left_bottom = ''.join(''.join(tup) for tup in zip(y_min_grid, x_min_grid))\n",
    "    right_top =  ''.join(''.join(tup) for tup in zip(y_max_grid, x_max_grid))\n",
    "    \n",
    "    return left_bottom, right_top"
   ]
  },
  {
   "cell_type": "code",
   "execution_count": null,
   "metadata": {},
   "outputs": [],
   "source": [
    "test_eq(get_right_diagonal_vertex_grids(\"8FWF6MX2\", \"8FWF6MV5\"), ('8FWF6MV2', '8FWF6MX5'))\n",
    "test_eq(get_right_diagonal_vertex_grids(\"8FWG424W\", \"8FWG4344\"), (\"8FWG424W\", \"8FWG4344\"))\n",
    "test_eq(get_right_diagonal_vertex_grids(\"8FWG422W\", \"8FWG424W\"), (\"8FWG422W\", \"8FWG424W\"))"
   ]
  },
  {
   "attachments": {},
   "cell_type": "markdown",
   "metadata": {},
   "source": [
    "Given the right diagonal vextices, get the character ranges for X and Y sweeps"
   ]
  },
  {
   "cell_type": "code",
   "execution_count": null,
   "metadata": {},
   "outputs": [],
   "source": [
    "# TODO\n",
    "def get_XY_char_sweeps(\n",
    "    grid1: str,\n",
    "    grid2: str,\n",
    ") -> Tuple[list]:\n",
    "    pass"
   ]
  },
  {
   "cell_type": "code",
   "execution_count": null,
   "metadata": {},
   "outputs": [],
   "source": [
    "get_XY_char_sweeps('8FWF6MV2', '8FWF6MX5')"
   ]
  },
  {
   "cell_type": "code",
   "execution_count": null,
   "metadata": {},
   "outputs": [],
   "source": [
    "#| hide\n",
    "import nbdev; nbdev.nbdev_export()"
   ]
  }
 ],
 "metadata": {
  "kernelspec": {
   "display_name": "p310_trading",
   "language": "python",
   "name": "python3"
  }
 },
 "nbformat": 4,
 "nbformat_minor": 4
}
